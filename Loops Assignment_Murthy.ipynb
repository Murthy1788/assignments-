{
 "cells": [
  {
   "cell_type": "code",
   "execution_count": 2,
   "id": "aeab655b",
   "metadata": {},
   "outputs": [],
   "source": [
    "string=\"Data analytics artificial intelligence\""
   ]
  },
  {
   "cell_type": "code",
   "execution_count": null,
   "id": "2483fa92",
   "metadata": {},
   "outputs": [],
   "source": [
    "# count no of vowels and consonents\n",
    "# each word reverse of the word  -- \"ataD...\n",
    "# count of even lenght words \n",
    "# count of odd lenght of words\n",
    "# count of spaces"
   ]
  },
  {
   "cell_type": "code",
   "execution_count": 8,
   "id": "1f680878",
   "metadata": {},
   "outputs": [
    {
     "name": "stdout",
     "output_type": "stream",
     "text": [
      "vowels: 15\n",
      "consonents: 20\n"
     ]
    }
   ],
   "source": [
    "v_count=0\n",
    "c_count=0\n",
    "vowels=['a','e','i','o','u']\n",
    "for i in string:\n",
    "    if i in vowels:\n",
    "        v_count+=1\n",
    "    elif i != \" \":\n",
    "        c_count+= 1\n",
    "print(\"vowels:\",v_count)\n",
    "print(\"consonents:\",c_count)"
   ]
  },
  {
   "cell_type": "code",
   "execution_count": 38,
   "id": "62bae2e0",
   "metadata": {},
   "outputs": [
    {
     "data": {
      "text/plain": [
       "['intelligence', 'artificial', 'analytics', 'Data']"
      ]
     },
     "execution_count": 38,
     "metadata": {},
     "output_type": "execute_result"
    }
   ],
   "source": [
    "string.split()"
   ]
  },
  {
   "cell_type": "code",
   "execution_count": 36,
   "id": "6e739b12",
   "metadata": {},
   "outputs": [
    {
     "name": "stdout",
     "output_type": "stream",
     "text": [
      " ataD scitylana laicifitra ecnegilletni\n"
     ]
    }
   ],
   "source": [
    "# each word reverse of the word  -- \"ataD...\n",
    "string=\"Data analytics artificial intelligence\"\n",
    "text=\"\"\n",
    "for i in string.split():\n",
    "    reverse=i[::-1]\n",
    "    text=text+\" \"+i[::-1]\n",
    "print(text)"
   ]
  },
  {
   "cell_type": "code",
   "execution_count": 24,
   "id": "fd388d03",
   "metadata": {},
   "outputs": [
    {
     "data": {
      "text/plain": [
       "'ecnegilletni laicifitra scitylana ataD'"
      ]
     },
     "execution_count": 24,
     "metadata": {},
     "output_type": "execute_result"
    }
   ],
   "source": [
    "string[::-1]"
   ]
  },
  {
   "cell_type": "code",
   "execution_count": 21,
   "id": "23794759",
   "metadata": {},
   "outputs": [
    {
     "data": {
      "text/plain": [
       "['intelligence', 'artificial', 'analytics', 'Data']"
      ]
     },
     "execution_count": 21,
     "metadata": {},
     "output_type": "execute_result"
    }
   ],
   "source": [
    "string.split()[::-1]"
   ]
  },
  {
   "cell_type": "code",
   "execution_count": 22,
   "id": "6fa2ae49",
   "metadata": {},
   "outputs": [
    {
     "name": "stdout",
     "output_type": "stream",
     "text": [
      "Data analytics artificial intelligence"
     ]
    }
   ],
   "source": [
    "for i in string:\n",
    "    print(i,end=\"\")"
   ]
  },
  {
   "cell_type": "code",
   "execution_count": 23,
   "id": "aea78009",
   "metadata": {},
   "outputs": [
    {
     "name": "stdout",
     "output_type": "stream",
     "text": [
      "atad\n"
     ]
    }
   ],
   "source": [
    "x=\"data\"\n",
    "text=\"\"\n",
    "for i in range(1,5):\n",
    "    text=text+x[-i]\n",
    "print(text)"
   ]
  },
  {
   "cell_type": "code",
   "execution_count": 43,
   "id": "af48eb5a",
   "metadata": {},
   "outputs": [
    {
     "name": "stdout",
     "output_type": "stream",
     "text": [
      "Data\n",
      "artificial\n",
      "intelligence\n"
     ]
    }
   ],
   "source": [
    "# count of even lenght words\n",
    "for i in string.split():\n",
    "    if len(i)%2==0:\n",
    "        print(i)"
   ]
  },
  {
   "cell_type": "code",
   "execution_count": 50,
   "id": "9b090e0a",
   "metadata": {},
   "outputs": [
    {
     "name": "stdout",
     "output_type": "stream",
     "text": [
      "1\n"
     ]
    }
   ],
   "source": [
    "# count of odd lenght words\n",
    "od_count=0\n",
    "for i in string.split():\n",
    "    if len(i)%2!=0:\n",
    "        od_count+= 1\n",
    "        print(od_count)"
   ]
  },
  {
   "cell_type": "code",
   "execution_count": 51,
   "id": "b185259a",
   "metadata": {},
   "outputs": [
    {
     "name": "stdout",
     "output_type": "stream",
     "text": [
      "1\n",
      "2\n",
      "3\n"
     ]
    }
   ],
   "source": [
    "# count no of spaces\n",
    "count=0\n",
    "for i in string:\n",
    "    if i==' ':\n",
    "        count+=1\n",
    "        print(count)"
   ]
  },
  {
   "cell_type": "markdown",
   "id": "3042aa71",
   "metadata": {},
   "source": [
    "# Patterens"
   ]
  },
  {
   "cell_type": "code",
   "execution_count": 52,
   "id": "5d65ed2d",
   "metadata": {},
   "outputs": [
    {
     "name": "stdout",
     "output_type": "stream",
     "text": [
      "*\n",
      "**\n",
      "***\n",
      "****\n",
      "*****\n"
     ]
    }
   ],
   "source": [
    "for i in range(1,6):\n",
    "    print(i*'*')"
   ]
  },
  {
   "cell_type": "code",
   "execution_count": 57,
   "id": "2355ecce",
   "metadata": {
    "scrolled": true
   },
   "outputs": [
    {
     "name": "stdout",
     "output_type": "stream",
     "text": [
      "*****\n",
      "****\n",
      "***\n",
      "**\n",
      "*\n"
     ]
    }
   ],
   "source": [
    "for i in range(5,0,-1):\n",
    "    print(i*'*')"
   ]
  },
  {
   "cell_type": "code",
   "execution_count": 90,
   "id": "8f3b7526",
   "metadata": {},
   "outputs": [
    {
     "name": "stdout",
     "output_type": "stream",
     "text": [
      "*\n",
      "**\n",
      "***\n",
      "****\n",
      "*****\n",
      "******\n",
      "*****\n",
      "****\n",
      "***\n",
      "**\n",
      "*\n"
     ]
    }
   ],
   "source": [
    "for i in range(1,6):\n",
    "    print(i*'*')\n",
    "for i in range(6,0,-1):\n",
    "    print(i*'*')"
   ]
  },
  {
   "cell_type": "code",
   "execution_count": 66,
   "id": "ddad6908",
   "metadata": {},
   "outputs": [
    {
     "name": "stdout",
     "output_type": "stream",
     "text": [
      "*****\n",
      " ****\n",
      "  ***\n",
      "   **\n",
      "    *\n"
     ]
    }
   ],
   "source": [
    "j=0\n",
    "for i in range(5,0,-1):\n",
    "    print(j*' '+i*'*')\n",
    "    j=j+1"
   ]
  },
  {
   "cell_type": "code",
   "execution_count": 73,
   "id": "d032b019",
   "metadata": {},
   "outputs": [
    {
     "name": "stdout",
     "output_type": "stream",
     "text": [
      "      \n",
      "     *\n",
      "    **\n",
      "   ***\n",
      "  ****\n",
      " *****\n"
     ]
    }
   ],
   "source": [
    "j=6\n",
    "for i in range(0,6):\n",
    "    print(j*' '+i*'*')\n",
    "    j=j-1"
   ]
  },
  {
   "cell_type": "code",
   "execution_count": 99,
   "id": "881bc0a5",
   "metadata": {},
   "outputs": [
    {
     "name": "stdout",
     "output_type": "stream",
     "text": [
      "*****\n",
      " ****\n",
      "  ***\n",
      "   **\n",
      "    *\n",
      "     \n",
      "    *\n",
      "   **\n",
      "  ***\n",
      " ****\n",
      "*****\n"
     ]
    }
   ],
   "source": [
    "j=0\n",
    "for i in range(5,0,-1):\n",
    "    print(j*' '+i*'*')\n",
    "    j=j+1\n",
    "j=5\n",
    "for i in range(0,6):\n",
    "    print(j*' '+i*'*')\n",
    "    j=j-1"
   ]
  },
  {
   "cell_type": "code",
   "execution_count": 80,
   "id": "0229b6ed",
   "metadata": {},
   "outputs": [
    {
     "name": "stdout",
     "output_type": "stream",
     "text": [
      "     *\n",
      "    ***\n",
      "   *****\n",
      "  *******\n",
      " *********\n"
     ]
    }
   ],
   "source": [
    "j=5\n",
    "for i in range(0,10):\n",
    "    if i%2!=0:\n",
    "        print(j*' '+i*'*')\n",
    "        j=j-1"
   ]
  },
  {
   "cell_type": "code",
   "execution_count": 88,
   "id": "182e0a90",
   "metadata": {},
   "outputs": [
    {
     "name": "stdout",
     "output_type": "stream",
     "text": [
      "*********\n",
      " ******* \n",
      "  *****  \n",
      "   ***   \n",
      "    *    \n"
     ]
    }
   ],
   "source": [
    "j=0\n",
    "for i in range(10,0,-1):\n",
    "    if i%2!=0:\n",
    "        print(j*' '+i*'*'+j*\" \")\n",
    "        j=j+1"
   ]
  },
  {
   "cell_type": "code",
   "execution_count": 104,
   "id": "5b499c21",
   "metadata": {},
   "outputs": [
    {
     "name": "stdout",
     "output_type": "stream",
     "text": [
      "     *\n",
      "    ***\n",
      "   *****\n",
      "  *******\n",
      " ********* \n",
      "  *******  \n",
      "   *****   \n",
      "    ***    \n",
      "     *     \n"
     ]
    }
   ],
   "source": [
    "j=5\n",
    "for i in range(0,9):\n",
    "    if i%2!=0:\n",
    "        print(j*' '+i*'*')\n",
    "        j=j-1\n",
    "j=1\n",
    "for i in range(10,0,-1):\n",
    "    if i%2!=0:\n",
    "        print(j*' '+i*'*'+j*\" \")\n",
    "        j=j+1"
   ]
  },
  {
   "cell_type": "code",
   "execution_count": 106,
   "id": "f6124f4b",
   "metadata": {},
   "outputs": [
    {
     "name": "stdout",
     "output_type": "stream",
     "text": [
      "     *****\n",
      "    *****\n",
      "   *****\n",
      "  *****\n",
      " *****\n"
     ]
    }
   ],
   "source": [
    "j=5\n",
    "k=5\n",
    "for i in range(0,5):\n",
    "    print(j*' '+k*'*')\n",
    "    j=j-1"
   ]
  },
  {
   "cell_type": "code",
   "execution_count": 107,
   "id": "84080fb1",
   "metadata": {},
   "outputs": [
    {
     "name": "stdout",
     "output_type": "stream",
     "text": [
      "     *****\n",
      "      *****\n",
      "       *****\n",
      "        *****\n",
      "         *****\n"
     ]
    }
   ],
   "source": [
    "j=5\n",
    "k=5\n",
    "for i in range(0,5):\n",
    "    print(j*' '+k*'*')\n",
    "    j=j+1"
   ]
  },
  {
   "cell_type": "code",
   "execution_count": 114,
   "id": "a6299b08",
   "metadata": {},
   "outputs": [
    {
     "name": "stdout",
     "output_type": "stream",
     "text": [
      "*********\n",
      " ******* \n",
      "  *****  \n",
      "   ***   \n",
      "    *    \n",
      "    *    \n",
      "   ***   \n",
      "  *****  \n",
      " ******* \n",
      "*********\n"
     ]
    }
   ],
   "source": [
    "j=0\n",
    "for i in range(10,0,-1):\n",
    "    if i%2!=0:\n",
    "        print(j*' '+i*'*'+j*\" \")\n",
    "        j=j+1\n",
    "j=4\n",
    "for i in range(0,10):\n",
    "    if i%2!=0:\n",
    "        print(j*' '+i*'*'+j*\" \")\n",
    "        j=j-1"
   ]
  },
  {
   "cell_type": "code",
   "execution_count": 120,
   "id": "a3d9b525",
   "metadata": {},
   "outputs": [
    {
     "name": "stdout",
     "output_type": "stream",
     "text": [
      "*****\n",
      "****\n",
      "***\n",
      "**\n",
      "*\n",
      "*\n",
      "**\n",
      "***\n",
      "****\n",
      "*****\n"
     ]
    }
   ],
   "source": [
    "for i in range(5,0,-1):\n",
    "    print(i*'*')\n",
    "for i in range(1,6):\n",
    "    print(i*'*')\n",
    "    "
   ]
  },
  {
   "cell_type": "code",
   "execution_count": 141,
   "id": "ad77ebb5",
   "metadata": {
    "scrolled": true
   },
   "outputs": [
    {
     "name": "stdout",
     "output_type": "stream",
     "text": [
      "*\n",
      "**\n",
      "* *\n",
      "*  *\n",
      "*****\n"
     ]
    }
   ],
   "source": [
    "for i in range(1,6):\n",
    "    if i==3 or i==4:\n",
    "        for j in range(1,i+1):\n",
    "            if j==1 or j==i:\n",
    "                print('*',end='')\n",
    "            else:\n",
    "                print(' ',end='')\n",
    "        print()\n",
    "    else:\n",
    "        print(i*'*')"
   ]
  },
  {
   "cell_type": "code",
   "execution_count": 142,
   "id": "cb9e65f7",
   "metadata": {},
   "outputs": [
    {
     "name": "stdout",
     "output_type": "stream",
     "text": [
      "*\n",
      "**\n",
      "* *\n",
      "*  *\n",
      "*****\n"
     ]
    }
   ],
   "source": [
    "for i in range(1,6):\n",
    "    if i==3 or i==4:\n",
    "        for j in range(1,i+1):\n",
    "            if j==1 or j==i:\n",
    "                print('*',end='')\n",
    "            else:\n",
    "                print(' ',end='')\n",
    "        print()\n",
    "    else:\n",
    "        print(i*'*')"
   ]
  },
  {
   "cell_type": "code",
   "execution_count": 154,
   "id": "77d6e573",
   "metadata": {},
   "outputs": [
    {
     "name": "stdout",
     "output_type": "stream",
     "text": [
      "     *\n",
      "    **\n",
      "   * *\n",
      "  *  *\n",
      " *****\n"
     ]
    }
   ],
   "source": [
    "k=6\n",
    "for i in range(1,6):\n",
    "    k=k-1\n",
    "    if i==3 or i==4:\n",
    "        for j in range(1,i+1):\n",
    "            \n",
    "            if j==i:\n",
    "                print('*',end='')\n",
    "            elif j==1:\n",
    "                print(k*' '+'*',end='')\n",
    "            else:\n",
    "                print(' ',end='')\n",
    "        print()\n",
    "    else: \n",
    "         print(k*' '+i*'*')\n",
    "            \n",
    "  "
   ]
  },
  {
   "cell_type": "code",
   "execution_count": 164,
   "id": "f2bbc2dc",
   "metadata": {},
   "outputs": [
    {
     "name": "stdout",
     "output_type": "stream",
     "text": [
      " \n",
      "1  \n",
      "1 2  \n",
      "1 2 3  \n",
      "1 2 3 4  \n",
      "1 2 3 4 5  \n",
      "1 2 3 4 5 6  \n"
     ]
    }
   ],
   "source": [
    "for i in range(1,8):\n",
    "    for j in range(1,i):\n",
    "        print(j,end=' ')\n",
    "    print(' ')\n",
    "   "
   ]
  },
  {
   "cell_type": "code",
   "execution_count": 10,
   "id": "a23cc40c",
   "metadata": {},
   "outputs": [
    {
     "name": "stdout",
     "output_type": "stream",
     "text": [
      "A  \n",
      "A B  \n",
      "A B C  \n",
      "A B C D  \n",
      "A B C D E  \n",
      "A B C D E F  \n",
      "A B C D E F G  \n"
     ]
    }
   ],
   "source": [
    "k=65\n",
    "for i in range(1,8):\n",
    "    for j in range(0,i):\n",
    "        print(chr(k+j),end=' ')\n",
    "    print(' ')\n",
    "   "
   ]
  },
  {
   "cell_type": "code",
   "execution_count": 17,
   "id": "dcd2f76a",
   "metadata": {},
   "outputs": [
    {
     "name": "stdout",
     "output_type": "stream",
     "text": [
      "1 \n",
      "2 2 \n",
      "3 3 3 \n",
      "4 4 4 4 \n",
      "5 5 5 5 5 \n",
      "6 6 6 6 6 6 \n",
      "7 7 7 7 7 7 7 \n"
     ]
    }
   ],
   "source": [
    "for i in range(1,8):\n",
    "    for j in range(0,i):\n",
    "        print(i,end=' ')\n",
    "    print()"
   ]
  },
  {
   "cell_type": "code",
   "execution_count": 22,
   "id": "a21fab34",
   "metadata": {},
   "outputs": [
    {
     "name": "stdout",
     "output_type": "stream",
     "text": [
      " \n",
      "A  \n",
      "B B  \n",
      "C C C  \n",
      "D D D D  \n",
      "E E E E E  \n",
      "F F F F F F  \n",
      "G G G G G G G  \n"
     ]
    }
   ],
   "source": [
    "k=64\n",
    "for i in range(0,8):\n",
    "    for j in range(0,i):\n",
    "        print(chr(k+i),end=' ')\n",
    "    print(' ')\n",
    "   "
   ]
  },
  {
   "cell_type": "code",
   "execution_count": 34,
   "id": "f37933f6",
   "metadata": {},
   "outputs": [
    {
     "name": "stdout",
     "output_type": "stream",
     "text": [
      "\n",
      "      1\n",
      "     1 2\n",
      "    1 2 3\n",
      "   1 2 3 4\n",
      "  1 2 3 4 5\n"
     ]
    }
   ],
   "source": [
    "s=7\n",
    "for i in range(1,7):\n",
    "    for j in range(1,i):\n",
    "        if j==1:\n",
    "            print(s*' '+str(j),end='')\n",
    "        else:\n",
    "            print(\" \"+str(j),end='')\n",
    "    s-=1\n",
    "    print()"
   ]
  },
  {
   "cell_type": "code",
   "execution_count": 48,
   "id": "0b2ce274",
   "metadata": {},
   "outputs": [
    {
     "name": "stdout",
     "output_type": "stream",
     "text": [
      "     E \n",
      "    D E \n",
      "   C D E \n",
      "  B C D E \n",
      " A B C D E \n"
     ]
    }
   ],
   "source": [
    "s=70\n",
    "for i in range(1,6):\n",
    "    print((5-i)*\" \",end=\" \")\n",
    "    for j in range(i,0,-1):\n",
    "        print(chr(70-j),end=' ')\n",
    "    print()\n",
    "        "
   ]
  },
  {
   "cell_type": "code",
   "execution_count": 43,
   "id": "003100a1",
   "metadata": {},
   "outputs": [
    {
     "name": "stdout",
     "output_type": "stream",
     "text": [
      "     E \n",
      "    D E \n",
      "   C D E \n",
      "  B C D E \n",
      " A B C D E \n"
     ]
    }
   ],
   "source": [
    "for i in range(1,6):\n",
    "    print((5-i)*\" \",end=\" \")\n",
    "    for j in range(i,0,-1):\n",
    "        print(chr(70-j),end=\" \")\n",
    "    print()"
   ]
  },
  {
   "cell_type": "code",
   "execution_count": 15,
   "id": "ddced4d3",
   "metadata": {},
   "outputs": [
    {
     "name": "stdout",
     "output_type": "stream",
     "text": [
      "     E \n",
      "    D E \n",
      "   C D E \n",
      "  B C D E \n",
      " A B C D E \n"
     ]
    }
   ],
   "source": [
    "x=1\n",
    "s=4\n",
    "while x<=5:\n",
    "    print((5-x)*\" \",end=\" \")\n",
    "    b=1\n",
    "    while b<=x:\n",
    "        print(chr(64+s+b),end=\" \")\n",
    "        b=b+1\n",
    "    print()\n",
    "    x=x+1\n",
    "    s=s-1\n",
    "   \n",
    "    "
   ]
  },
  {
   "cell_type": "code",
   "execution_count": 8,
   "id": "fecaa8e4",
   "metadata": {},
   "outputs": [
    {
     "name": "stdout",
     "output_type": "stream",
     "text": [
      "         E          \n",
      "        D E         \n",
      "       C D E        \n",
      "      B C D E       \n",
      "     A B C D E      \n"
     ]
    }
   ],
   "source": [
    "x=\"\"\n",
    "a=1\n",
    "while a<=5:\n",
    "    x=\"\".join(chr(70-a))+\" \"+x\n",
    "    print(x.center(20,\" \"))\n",
    "    a=a+1"
   ]
  },
  {
   "cell_type": "code",
   "execution_count": 9,
   "id": "f181673b",
   "metadata": {},
   "outputs": [
    {
     "name": "stdout",
     "output_type": "stream",
     "text": [
      "     E \n",
      "    D E \n",
      "   C D E \n",
      "  B C D E \n",
      " A B C D E \n"
     ]
    }
   ],
   "source": [
    "x=1\n",
    "s=4\n",
    "while x<=5:\n",
    "    print((5-x)*\" \",end=\" \")\n",
    "    b=1\n",
    "    while b<=x:\n",
    "        print(chr(64+s+b),end=\" \")\n",
    "        b=b+1\n",
    "    print()\n",
    "    x=x+1\n",
    "    s=s-1"
   ]
  },
  {
   "cell_type": "code",
   "execution_count": 13,
   "id": "15386f16",
   "metadata": {},
   "outputs": [
    {
     "name": "stdout",
     "output_type": "stream",
     "text": [
      "5\n",
      "    *\n",
      "   **\n",
      "  * *\n",
      " *  *\n",
      "*****\n"
     ]
    }
   ],
   "source": [
    "n=int(input())\n",
    "for i in range(n):\n",
    "    if i==0:\n",
    "        print(\" \"*(n-1)+\"*\")\n",
    "    elif i==n-1:\n",
    "        print(\"*\"*n)\n",
    "    else:\n",
    "        l_s = \" \"*(n-i-1)\n",
    "        h_s = \" \"*(i-1)\n",
    "        print(l_s+\"*\"+h_s+\"*\")"
   ]
  },
  {
   "cell_type": "code",
   "execution_count": null,
   "id": "743ef44b",
   "metadata": {},
   "outputs": [],
   "source": []
  },
  {
   "cell_type": "code",
   "execution_count": null,
   "id": "1c00a002",
   "metadata": {},
   "outputs": [],
   "source": []
  },
  {
   "cell_type": "code",
   "execution_count": null,
   "id": "e12ff0df",
   "metadata": {},
   "outputs": [],
   "source": []
  },
  {
   "cell_type": "code",
   "execution_count": null,
   "id": "d1b4df03",
   "metadata": {},
   "outputs": [],
   "source": []
  },
  {
   "cell_type": "code",
   "execution_count": null,
   "id": "8d9049c9",
   "metadata": {},
   "outputs": [],
   "source": []
  },
  {
   "cell_type": "code",
   "execution_count": null,
   "id": "9b173170",
   "metadata": {},
   "outputs": [],
   "source": []
  },
  {
   "cell_type": "code",
   "execution_count": null,
   "id": "2c094748",
   "metadata": {},
   "outputs": [],
   "source": []
  },
  {
   "cell_type": "code",
   "execution_count": null,
   "id": "273ecf36",
   "metadata": {},
   "outputs": [],
   "source": []
  },
  {
   "cell_type": "code",
   "execution_count": null,
   "id": "a841976b",
   "metadata": {},
   "outputs": [],
   "source": []
  },
  {
   "cell_type": "code",
   "execution_count": null,
   "id": "59040fbb",
   "metadata": {},
   "outputs": [],
   "source": []
  },
  {
   "cell_type": "code",
   "execution_count": null,
   "id": "9738d2ee",
   "metadata": {},
   "outputs": [],
   "source": []
  },
  {
   "cell_type": "code",
   "execution_count": null,
   "id": "d941c6ba",
   "metadata": {},
   "outputs": [],
   "source": []
  },
  {
   "cell_type": "code",
   "execution_count": null,
   "id": "dd505cc8",
   "metadata": {},
   "outputs": [],
   "source": []
  },
  {
   "cell_type": "code",
   "execution_count": null,
   "id": "85a89f83",
   "metadata": {},
   "outputs": [],
   "source": []
  }
 ],
 "metadata": {
  "kernelspec": {
   "display_name": "Python 3 (ipykernel)",
   "language": "python",
   "name": "python3"
  },
  "language_info": {
   "codemirror_mode": {
    "name": "ipython",
    "version": 3
   },
   "file_extension": ".py",
   "mimetype": "text/x-python",
   "name": "python",
   "nbconvert_exporter": "python",
   "pygments_lexer": "ipython3",
   "version": "3.9.13"
  }
 },
 "nbformat": 4,
 "nbformat_minor": 5
}
